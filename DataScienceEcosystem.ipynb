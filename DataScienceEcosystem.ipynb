{
 "cells": [
  {
   "cell_type": "markdown",
   "id": "5aca7c35-3b53-4eff-8531-0827b388aef4",
   "metadata": {},
   "source": [
    "<h1>Data Science Tools and Ecosystem</h1>"
   ]
  },
  {
   "cell_type": "markdown",
   "id": "936a324a-b7d8-486f-aec2-2e490e951a9c",
   "metadata": {},
   "source": [
    "In this notebook we will summarize our Data Science Ecosystem"
   ]
  },
  {
   "cell_type": "markdown",
   "id": "a399f711-5b1f-484e-840d-72e81b6abebd",
   "metadata": {},
   "source": [
    "Following are the popular data science languages\n",
    "<ul>\n",
    "    <li>Python</li>\n",
    "    <li>Scala</li>\n",
    "    <li>R</li>\n",
    "    <li>SQL</li>\n",
    "</ul>\n"
   ]
  },
  {
   "cell_type": "markdown",
   "id": "fd0d096a-838b-4e14-96d1-682c52f4cb85",
   "metadata": {},
   "source": [
    "Following are some of the data science libraries\n",
    "<ul>\n",
    "    <li>numpy</li>\n",
    "    <li>pandas</li>\n",
    "    <li>scikitlearn</li>\n",
    "    <li>matplotlib</li>\n",
    "    <li>seaborn</li>\n",
    "</ul>    "
   ]
  },
  {
   "cell_type": "markdown",
   "id": "7bda3324-68e3-4de2-b4aa-7aaeb9c5776a",
   "metadata": {},
   "source": [
    "Data science tools\n",
    "<ul>\n",
    "    <li>jupyter</li>\n",
    "    <li>github</li>\n",
    "    </ul>\n",
    "    "
   ]
  },
  {
   "cell_type": "markdown",
   "id": "88acc26a-1ab0-4496-a34f-7b80162cd5ad",
   "metadata": {},
   "source": [
    "<h3>Below are a few examples of evaluating arithmetic expressions in Python</h3>"
   ]
  },
  {
   "cell_type": "code",
   "execution_count": 1,
   "id": "45e24c9e-9dbb-40a5-915e-bd62cd1a9c7f",
   "metadata": {
    "tags": []
   },
   "outputs": [
    {
     "name": "stdout",
     "output_type": "stream",
     "text": [
      "9\n",
      "1\n",
      "20\n",
      "1\n"
     ]
    }
   ],
   "source": [
    "a=5\n",
    "b=4\n",
    "print(a+b)\n",
    "print(a-b)\n",
    "print(a*b)\n",
    "print(a//b)"
   ]
  },
  {
   "cell_type": "code",
   "execution_count": 2,
   "id": "e5d9a388-d8b3-4f8a-a337-d5c657aaf520",
   "metadata": {
    "tags": []
   },
   "outputs": [
    {
     "name": "stdout",
     "output_type": "stream",
     "text": [
      "17\n"
     ]
    }
   ],
   "source": [
    "print((3*4)+5)"
   ]
  },
  {
   "cell_type": "code",
   "execution_count": 3,
   "id": "3f7b7681-0840-4572-b21d-9a411e79451f",
   "metadata": {
    "tags": []
   },
   "outputs": [
    {
     "name": "stdout",
     "output_type": "stream",
     "text": [
      "3.3333333333333335\n"
     ]
    }
   ],
   "source": [
    "minutes=200\n",
    "hours=minutes/60\n",
    "print(hours)"
   ]
  },
  {
   "cell_type": "markdown",
   "id": "1ccd021a-21be-4dd2-a018-9a9ec6c15ba9",
   "metadata": {},
   "source": [
    "<b>Objectives</b>\n",
    "<ul>\n",
    "    <li>unordered list</li>\n",
    "    <li>list popular languages for data science</li>\n",
    "</ul>    \n"
   ]
  },
  {
   "cell_type": "markdown",
   "id": "8ffe8992-15e1-4e6a-8f0c-1cf977e6ff0e",
   "metadata": {
    "tags": []
   },
   "source": [
    "<h2>Author</h2>\n",
    "SahilKumar"
   ]
  },
  {
   "cell_type": "markdown",
   "id": "7a301fd3-ec38-4d3e-bcd6-d73a4139c11f",
   "metadata": {},
   "source": []
  }
 ],
 "metadata": {
  "kernelspec": {
   "display_name": "Python",
   "language": "python",
   "name": "conda-env-python-py"
  },
  "language_info": {
   "codemirror_mode": {
    "name": "ipython",
    "version": 3
   },
   "file_extension": ".py",
   "mimetype": "text/x-python",
   "name": "python",
   "nbconvert_exporter": "python",
   "pygments_lexer": "ipython3",
   "version": "3.7.12"
  }
 },
 "nbformat": 4,
 "nbformat_minor": 5
}
